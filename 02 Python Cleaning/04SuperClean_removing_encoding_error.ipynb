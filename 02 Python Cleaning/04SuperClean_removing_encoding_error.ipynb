{
 "cells": [
  {
   "cell_type": "code",
   "execution_count": 123,
   "metadata": {},
   "outputs": [],
   "source": [
    "import re\n",
    "import pandas as pd"
   ]
  },
  {
   "cell_type": "code",
   "execution_count": 124,
   "metadata": {},
   "outputs": [],
   "source": [
    "# Read data\n",
    "data = pd.read_csv(\"C:/Users/SirFa/Downloads/LinkedIn/Team1405_DataDetectives/Cleaned Datasets/cleaned_play_store_data.csv\")\n"
   ]
  },
  {
   "cell_type": "code",
   "execution_count": 125,
   "metadata": {},
   "outputs": [],
   "source": [
    "# Define a regular expression that matches invalid characters\n",
    "invalid_chars = re.compile(r\"[^\\x00-\\x7F]+\")\n",
    "error_count = 0\n"
   ]
  },
  {
   "cell_type": "code",
   "execution_count": 126,
   "metadata": {},
   "outputs": [],
   "source": [
    "# Access the specific column by name\n",
    "column_data = data['App']\n",
    "\n",
    "# Loop through each value in the column\n",
    "for value in column_data:\n",
    "    # Check if the value contains invalid characters\n",
    "    if invalid_chars.search(value):\n",
    "        # If it does, increment the counter\n",
    "        error_count += 1\n"
   ]
  },
  {
   "cell_type": "code",
   "execution_count": 127,
   "metadata": {},
   "outputs": [
    {
     "name": "stdout",
     "output_type": "stream",
     "text": [
      "Number of records with error-coded characters in column 'App': 442\n"
     ]
    }
   ],
   "source": [
    "# Print the final count\n",
    "print(\"Number of records with error-coded characters in column 'App':\", error_count)"
   ]
  },
  {
   "cell_type": "code",
   "execution_count": 128,
   "metadata": {},
   "outputs": [
    {
     "name": "stdout",
     "output_type": "stream",
     "text": [
      "442\n"
     ]
    }
   ],
   "source": [
    "#alternate shortcut\n",
    "cool = error_count = data['App'].str.contains(invalid_chars).sum()\n",
    "print(cool)"
   ]
  },
  {
   "cell_type": "code",
   "execution_count": 129,
   "metadata": {},
   "outputs": [
    {
     "name": "stdout",
     "output_type": "stream",
     "text": [
      "<class 'pandas.core.frame.DataFrame'>\n",
      "RangeIndex: 10354 entries, 0 to 10353\n",
      "Data columns (total 14 columns):\n",
      " #   Column          Non-Null Count  Dtype  \n",
      "---  ------          --------------  -----  \n",
      " 0   Unnamed: 0      10354 non-null  int64  \n",
      " 1   App             10354 non-null  object \n",
      " 2   Category        10354 non-null  object \n",
      " 3   Rating          10354 non-null  float64\n",
      " 4   Reviews         10354 non-null  int64  \n",
      " 5   Size            10354 non-null  object \n",
      " 6   Installs        10354 non-null  int64  \n",
      " 7   Type            10354 non-null  object \n",
      " 8   Price           10354 non-null  float64\n",
      " 9   Content Rating  10354 non-null  object \n",
      " 10  Genres          10354 non-null  object \n",
      " 11  Last Updated    10354 non-null  object \n",
      " 12  Current Ver     10354 non-null  object \n",
      " 13  Android Ver     10354 non-null  object \n",
      "dtypes: float64(2), int64(3), object(9)\n",
      "memory usage: 1.1+ MB\n"
     ]
    }
   ],
   "source": [
    "data.info()"
   ]
  },
  {
   "cell_type": "code",
   "execution_count": 130,
   "metadata": {},
   "outputs": [],
   "source": [
    "# Create a new dataframe with invalid rows removed\n",
    "cleaned_apps = data.drop(data[data['App'].str.contains(invalid_chars)].index, inplace=False)\n"
   ]
  },
  {
   "cell_type": "code",
   "execution_count": 131,
   "metadata": {},
   "outputs": [
    {
     "name": "stdout",
     "output_type": "stream",
     "text": [
      "<class 'pandas.core.frame.DataFrame'>\n",
      "Int64Index: 9912 entries, 0 to 10353\n",
      "Data columns (total 14 columns):\n",
      " #   Column          Non-Null Count  Dtype  \n",
      "---  ------          --------------  -----  \n",
      " 0   Unnamed: 0      9912 non-null   int64  \n",
      " 1   App             9912 non-null   object \n",
      " 2   Category        9912 non-null   object \n",
      " 3   Rating          9912 non-null   float64\n",
      " 4   Reviews         9912 non-null   int64  \n",
      " 5   Size            9912 non-null   object \n",
      " 6   Installs        9912 non-null   int64  \n",
      " 7   Type            9912 non-null   object \n",
      " 8   Price           9912 non-null   float64\n",
      " 9   Content Rating  9912 non-null   object \n",
      " 10  Genres          9912 non-null   object \n",
      " 11  Last Updated    9912 non-null   object \n",
      " 12  Current Ver     9912 non-null   object \n",
      " 13  Android Ver     9912 non-null   object \n",
      "dtypes: float64(2), int64(3), object(9)\n",
      "memory usage: 1.1+ MB\n"
     ]
    }
   ],
   "source": [
    "cleaned_df.info()"
   ]
  },
  {
   "cell_type": "code",
   "execution_count": 132,
   "metadata": {},
   "outputs": [
    {
     "data": {
      "text/plain": [
       "442"
      ]
     },
     "execution_count": 132,
     "metadata": {},
     "output_type": "execute_result"
    }
   ],
   "source": [
    "10354-9912"
   ]
  },
  {
   "cell_type": "code",
   "execution_count": 133,
   "metadata": {},
   "outputs": [],
   "source": [
    "cleaned_apps.to_csv('Cleaned_Apps.csv', index=False)\n"
   ]
  },
  {
   "cell_type": "code",
   "execution_count": null,
   "metadata": {},
   "outputs": [],
   "source": []
  },
  {
   "cell_type": "code",
   "execution_count": 145,
   "metadata": {},
   "outputs": [
    {
     "data": {
      "text/html": [
       "<div>\n",
       "<style scoped>\n",
       "    .dataframe tbody tr th:only-of-type {\n",
       "        vertical-align: middle;\n",
       "    }\n",
       "\n",
       "    .dataframe tbody tr th {\n",
       "        vertical-align: top;\n",
       "    }\n",
       "\n",
       "    .dataframe thead th {\n",
       "        text-align: right;\n",
       "    }\n",
       "</style>\n",
       "<table border=\"1\" class=\"dataframe\">\n",
       "  <thead>\n",
       "    <tr style=\"text-align: right;\">\n",
       "      <th></th>\n",
       "      <th>Unnamed: 0</th>\n",
       "      <th>App</th>\n",
       "      <th>Translated_Review</th>\n",
       "      <th>Sentiment</th>\n",
       "      <th>Sentiment_Polarity</th>\n",
       "      <th>Sentiment_Subjectivity</th>\n",
       "    </tr>\n",
       "  </thead>\n",
       "  <tbody>\n",
       "    <tr>\n",
       "      <th>0</th>\n",
       "      <td>0</td>\n",
       "      <td>10 Best Foods for You</td>\n",
       "      <td>I like eat delicious food. That's I'm cooking ...</td>\n",
       "      <td>Positive</td>\n",
       "      <td>1.000000</td>\n",
       "      <td>0.533333</td>\n",
       "    </tr>\n",
       "    <tr>\n",
       "      <th>1</th>\n",
       "      <td>1</td>\n",
       "      <td>10 Best Foods for You</td>\n",
       "      <td>This help eating healthy exercise regular basis</td>\n",
       "      <td>Positive</td>\n",
       "      <td>0.250000</td>\n",
       "      <td>0.288462</td>\n",
       "    </tr>\n",
       "    <tr>\n",
       "      <th>2</th>\n",
       "      <td>2</td>\n",
       "      <td>10 Best Foods for You</td>\n",
       "      <td>Works great especially going grocery store</td>\n",
       "      <td>Positive</td>\n",
       "      <td>0.400000</td>\n",
       "      <td>0.875000</td>\n",
       "    </tr>\n",
       "    <tr>\n",
       "      <th>3</th>\n",
       "      <td>3</td>\n",
       "      <td>10 Best Foods for You</td>\n",
       "      <td>Best idea us</td>\n",
       "      <td>Positive</td>\n",
       "      <td>1.000000</td>\n",
       "      <td>0.300000</td>\n",
       "    </tr>\n",
       "    <tr>\n",
       "      <th>4</th>\n",
       "      <td>4</td>\n",
       "      <td>10 Best Foods for You</td>\n",
       "      <td>Best way</td>\n",
       "      <td>Positive</td>\n",
       "      <td>1.000000</td>\n",
       "      <td>0.300000</td>\n",
       "    </tr>\n",
       "    <tr>\n",
       "      <th>...</th>\n",
       "      <td>...</td>\n",
       "      <td>...</td>\n",
       "      <td>...</td>\n",
       "      <td>...</td>\n",
       "      <td>...</td>\n",
       "      <td>...</td>\n",
       "    </tr>\n",
       "    <tr>\n",
       "      <th>37422</th>\n",
       "      <td>37422</td>\n",
       "      <td>Housing-Real Estate &amp; Property</td>\n",
       "      <td>Most ads older many agents ..not much owner po...</td>\n",
       "      <td>Positive</td>\n",
       "      <td>0.173333</td>\n",
       "      <td>0.486667</td>\n",
       "    </tr>\n",
       "    <tr>\n",
       "      <th>37423</th>\n",
       "      <td>37423</td>\n",
       "      <td>Housing-Real Estate &amp; Property</td>\n",
       "      <td>If photos posted portal load, fit purpose. I'm...</td>\n",
       "      <td>Positive</td>\n",
       "      <td>0.225000</td>\n",
       "      <td>0.447222</td>\n",
       "    </tr>\n",
       "    <tr>\n",
       "      <th>37424</th>\n",
       "      <td>37424</td>\n",
       "      <td>Housing-Real Estate &amp; Property</td>\n",
       "      <td>Dumb app, I wanted post property rent give opt...</td>\n",
       "      <td>Negative</td>\n",
       "      <td>-0.287500</td>\n",
       "      <td>0.250000</td>\n",
       "    </tr>\n",
       "    <tr>\n",
       "      <th>37425</th>\n",
       "      <td>37425</td>\n",
       "      <td>Housing-Real Estate &amp; Property</td>\n",
       "      <td>I property business got link SMS happy perform...</td>\n",
       "      <td>Positive</td>\n",
       "      <td>0.800000</td>\n",
       "      <td>1.000000</td>\n",
       "    </tr>\n",
       "    <tr>\n",
       "      <th>37426</th>\n",
       "      <td>37426</td>\n",
       "      <td>Housing-Real Estate &amp; Property</td>\n",
       "      <td>Useless app, I searched flats kondapur, Hydera...</td>\n",
       "      <td>Negative</td>\n",
       "      <td>-0.316667</td>\n",
       "      <td>0.400000</td>\n",
       "    </tr>\n",
       "  </tbody>\n",
       "</table>\n",
       "<p>37427 rows × 6 columns</p>\n",
       "</div>"
      ],
      "text/plain": [
       "       Unnamed: 0                             App  \\\n",
       "0               0           10 Best Foods for You   \n",
       "1               1           10 Best Foods for You   \n",
       "2               2           10 Best Foods for You   \n",
       "3               3           10 Best Foods for You   \n",
       "4               4           10 Best Foods for You   \n",
       "...           ...                             ...   \n",
       "37422       37422  Housing-Real Estate & Property   \n",
       "37423       37423  Housing-Real Estate & Property   \n",
       "37424       37424  Housing-Real Estate & Property   \n",
       "37425       37425  Housing-Real Estate & Property   \n",
       "37426       37426  Housing-Real Estate & Property   \n",
       "\n",
       "                                       Translated_Review Sentiment  \\\n",
       "0      I like eat delicious food. That's I'm cooking ...  Positive   \n",
       "1        This help eating healthy exercise regular basis  Positive   \n",
       "2             Works great especially going grocery store  Positive   \n",
       "3                                           Best idea us  Positive   \n",
       "4                                               Best way  Positive   \n",
       "...                                                  ...       ...   \n",
       "37422  Most ads older many agents ..not much owner po...  Positive   \n",
       "37423  If photos posted portal load, fit purpose. I'm...  Positive   \n",
       "37424  Dumb app, I wanted post property rent give opt...  Negative   \n",
       "37425  I property business got link SMS happy perform...  Positive   \n",
       "37426  Useless app, I searched flats kondapur, Hydera...  Negative   \n",
       "\n",
       "       Sentiment_Polarity  Sentiment_Subjectivity  \n",
       "0                1.000000                0.533333  \n",
       "1                0.250000                0.288462  \n",
       "2                0.400000                0.875000  \n",
       "3                1.000000                0.300000  \n",
       "4                1.000000                0.300000  \n",
       "...                   ...                     ...  \n",
       "37422            0.173333                0.486667  \n",
       "37423            0.225000                0.447222  \n",
       "37424           -0.287500                0.250000  \n",
       "37425            0.800000                1.000000  \n",
       "37426           -0.316667                0.400000  \n",
       "\n",
       "[37427 rows x 6 columns]"
      ]
     },
     "execution_count": 145,
     "metadata": {},
     "output_type": "execute_result"
    }
   ],
   "source": [
    "data2 = pd.read_csv(\"C:/Users/SirFa/Downloads/LinkedIn/Team1405_DataDetectives/Cleaned Datasets/cleaned_playstore_reviews.csv\")"
   ]
  },
  {
   "cell_type": "code",
   "execution_count": 143,
   "metadata": {},
   "outputs": [],
   "source": [
    "# Define a regular expression that matches invalid characters\n",
    "invalid_chars = re.compile(r\"[^\\x00-\\x7F]+\")"
   ]
  },
  {
   "cell_type": "code",
   "execution_count": 144,
   "metadata": {},
   "outputs": [
    {
     "name": "stdout",
     "output_type": "stream",
     "text": [
      "2995\n"
     ]
    }
   ],
   "source": [
    "#alternate shortcut\n",
    "ca = error_count = data2['App'].str.contains(invalid_chars).sum()\n",
    "cb = error_count = data2['Translated_Review'].str.contains(invalid_chars).sum()\n",
    "print(ca+cb)"
   ]
  },
  {
   "cell_type": "code",
   "execution_count": 149,
   "metadata": {},
   "outputs": [
    {
     "name": "stdout",
     "output_type": "stream",
     "text": [
      "<class 'pandas.core.frame.DataFrame'>\n",
      "RangeIndex: 37427 entries, 0 to 37426\n",
      "Data columns (total 6 columns):\n",
      " #   Column                  Non-Null Count  Dtype  \n",
      "---  ------                  --------------  -----  \n",
      " 0   Unnamed: 0              37427 non-null  int64  \n",
      " 1   App                     37427 non-null  object \n",
      " 2   Translated_Review       37427 non-null  object \n",
      " 3   Sentiment               37427 non-null  object \n",
      " 4   Sentiment_Polarity      37427 non-null  float64\n",
      " 5   Sentiment_Subjectivity  37427 non-null  float64\n",
      "dtypes: float64(2), int64(1), object(3)\n",
      "memory usage: 1.7+ MB\n"
     ]
    }
   ],
   "source": [
    "data2.info()"
   ]
  },
  {
   "cell_type": "code",
   "execution_count": 147,
   "metadata": {},
   "outputs": [],
   "source": [
    "# Create a new dataframe with invalid rows removed\n",
    "cleaned_apps = data2.drop(data2[data2['App'].str.contains(invalid_chars)].index, inplace=False)\n",
    "cleaned_apps\n",
    "cleaned_reviews = cleaned_apps.drop(cleaned_apps[cleaned_apps['Translated_Review'].str.contains(invalid_chars)].index, inplace=False)\n"
   ]
  },
  {
   "cell_type": "code",
   "execution_count": 148,
   "metadata": {},
   "outputs": [
    {
     "name": "stdout",
     "output_type": "stream",
     "text": [
      "<class 'pandas.core.frame.DataFrame'>\n",
      "Int64Index: 34474 entries, 0 to 37426\n",
      "Data columns (total 6 columns):\n",
      " #   Column                  Non-Null Count  Dtype  \n",
      "---  ------                  --------------  -----  \n",
      " 0   Unnamed: 0              34474 non-null  int64  \n",
      " 1   App                     34474 non-null  object \n",
      " 2   Translated_Review       34474 non-null  object \n",
      " 3   Sentiment               34474 non-null  object \n",
      " 4   Sentiment_Polarity      34474 non-null  float64\n",
      " 5   Sentiment_Subjectivity  34474 non-null  float64\n",
      "dtypes: float64(2), int64(1), object(3)\n",
      "memory usage: 1.8+ MB\n"
     ]
    }
   ],
   "source": [
    "cleaned_reviews.info()"
   ]
  },
  {
   "cell_type": "code",
   "execution_count": 107,
   "metadata": {},
   "outputs": [
    {
     "data": {
      "text/plain": [
       "2953"
      ]
     },
     "execution_count": 107,
     "metadata": {},
     "output_type": "execute_result"
    }
   ],
   "source": [
    "37427 -34474"
   ]
  },
  {
   "cell_type": "code",
   "execution_count": 150,
   "metadata": {},
   "outputs": [],
   "source": [
    "cleaned_reviews.to_csv(\"Cleaned_Reviews.csv\", index=False)"
   ]
  }
 ],
 "metadata": {
  "kernelspec": {
   "display_name": "Python 3",
   "language": "python",
   "name": "python3"
  },
  "language_info": {
   "codemirror_mode": {
    "name": "ipython",
    "version": 3
   },
   "file_extension": ".py",
   "mimetype": "text/x-python",
   "name": "python",
   "nbconvert_exporter": "python",
   "pygments_lexer": "ipython3",
   "version": "3.10.5"
  },
  "orig_nbformat": 4,
  "vscode": {
   "interpreter": {
    "hash": "369f2c481f4da34e4445cda3fffd2e751bd1c4d706f27375911949ba6bb62e1c"
   }
  }
 },
 "nbformat": 4,
 "nbformat_minor": 2
}
